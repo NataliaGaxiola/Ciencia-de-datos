{
 "cells": [
  {
   "cell_type": "markdown",
   "id": "5431881e",
   "metadata": {},
   "source": [
    "<h1><center>PROYECTO - MODELO</center></h1>"
   ]
  },
  {
   "cell_type": "markdown",
   "id": "8e3392a4",
   "metadata": {},
   "source": [
    "## Librerias a utilizar"
   ]
  },
  {
   "cell_type": "code",
   "execution_count": 1,
   "id": "f6701aa0",
   "metadata": {},
   "outputs": [],
   "source": [
    "import pandas as pd\n",
    "import numpy as np\n",
    "import math\n",
    "import matplotlib.pyplot as plt\n",
    "import seaborn as sns"
   ]
  },
  {
   "cell_type": "markdown",
   "id": "502c2b0a",
   "metadata": {},
   "source": [
    "# Definición de metrica AMS"
   ]
  },
  {
   "cell_type": "code",
   "execution_count": 2,
   "id": "c3908b61",
   "metadata": {},
   "outputs": [],
   "source": [
    "# Definimos la metrica AMS descrita por KAGGLE \n",
    "def ams(s,b): \n",
    "    return math.sqrt(2* ((s + b + 10) * math.log(1.0 + s/(b + 10)) - s))\n",
    "                     \n",
    "def cal_ams(weight, y, y_pred): \n",
    "    s = weight * (y == 1) * (y_pred ==1)\n",
    "    b = weight * (y == 0) * (y_pred ==1)\n",
    "    s = np.sum(s)\n",
    "    b = np.sum(b)\n",
    "    return ams(s,b)"
   ]
  },
  {
   "cell_type": "markdown",
   "id": "f42726ce",
   "metadata": {},
   "source": [
    "## Datos"
   ]
  },
  {
   "cell_type": "code",
   "execution_count": 3,
   "id": "edc2c767",
   "metadata": {},
   "outputs": [],
   "source": [
    "# Cargar datos de entrenamiento y testeo \n",
    "data = pd.read_csv(\"training.csv\")"
   ]
  },
  {
   "cell_type": "code",
   "execution_count": 4,
   "id": "9a92079e",
   "metadata": {},
   "outputs": [
    {
     "data": {
      "text/html": [
       "<div>\n",
       "<style scoped>\n",
       "    .dataframe tbody tr th:only-of-type {\n",
       "        vertical-align: middle;\n",
       "    }\n",
       "\n",
       "    .dataframe tbody tr th {\n",
       "        vertical-align: top;\n",
       "    }\n",
       "\n",
       "    .dataframe thead th {\n",
       "        text-align: right;\n",
       "    }\n",
       "</style>\n",
       "<table border=\"1\" class=\"dataframe\">\n",
       "  <thead>\n",
       "    <tr style=\"text-align: right;\">\n",
       "      <th></th>\n",
       "      <th>EventId</th>\n",
       "      <th>DER_mass_MMC</th>\n",
       "      <th>DER_mass_transverse_met_lep</th>\n",
       "      <th>DER_mass_vis</th>\n",
       "      <th>DER_pt_h</th>\n",
       "      <th>DER_deltaeta_jet_jet</th>\n",
       "      <th>DER_mass_jet_jet</th>\n",
       "      <th>DER_prodeta_jet_jet</th>\n",
       "      <th>DER_deltar_tau_lep</th>\n",
       "      <th>DER_pt_tot</th>\n",
       "      <th>...</th>\n",
       "      <th>PRI_jet_num</th>\n",
       "      <th>PRI_jet_leading_pt</th>\n",
       "      <th>PRI_jet_leading_eta</th>\n",
       "      <th>PRI_jet_leading_phi</th>\n",
       "      <th>PRI_jet_subleading_pt</th>\n",
       "      <th>PRI_jet_subleading_eta</th>\n",
       "      <th>PRI_jet_subleading_phi</th>\n",
       "      <th>PRI_jet_all_pt</th>\n",
       "      <th>Weight</th>\n",
       "      <th>Label</th>\n",
       "    </tr>\n",
       "  </thead>\n",
       "  <tbody>\n",
       "    <tr>\n",
       "      <th>0</th>\n",
       "      <td>100000</td>\n",
       "      <td>138.470</td>\n",
       "      <td>51.655</td>\n",
       "      <td>97.827</td>\n",
       "      <td>27.980</td>\n",
       "      <td>0.91</td>\n",
       "      <td>124.711</td>\n",
       "      <td>2.666</td>\n",
       "      <td>3.064</td>\n",
       "      <td>41.928</td>\n",
       "      <td>...</td>\n",
       "      <td>2</td>\n",
       "      <td>67.435</td>\n",
       "      <td>2.150</td>\n",
       "      <td>0.444</td>\n",
       "      <td>46.062</td>\n",
       "      <td>1.24</td>\n",
       "      <td>-2.475</td>\n",
       "      <td>113.497</td>\n",
       "      <td>0.002653</td>\n",
       "      <td>s</td>\n",
       "    </tr>\n",
       "    <tr>\n",
       "      <th>1</th>\n",
       "      <td>100001</td>\n",
       "      <td>160.937</td>\n",
       "      <td>68.768</td>\n",
       "      <td>103.235</td>\n",
       "      <td>48.146</td>\n",
       "      <td>-999.00</td>\n",
       "      <td>-999.000</td>\n",
       "      <td>-999.000</td>\n",
       "      <td>3.473</td>\n",
       "      <td>2.078</td>\n",
       "      <td>...</td>\n",
       "      <td>1</td>\n",
       "      <td>46.226</td>\n",
       "      <td>0.725</td>\n",
       "      <td>1.158</td>\n",
       "      <td>-999.000</td>\n",
       "      <td>-999.00</td>\n",
       "      <td>-999.000</td>\n",
       "      <td>46.226</td>\n",
       "      <td>2.233584</td>\n",
       "      <td>b</td>\n",
       "    </tr>\n",
       "    <tr>\n",
       "      <th>2</th>\n",
       "      <td>100002</td>\n",
       "      <td>-999.000</td>\n",
       "      <td>162.172</td>\n",
       "      <td>125.953</td>\n",
       "      <td>35.635</td>\n",
       "      <td>-999.00</td>\n",
       "      <td>-999.000</td>\n",
       "      <td>-999.000</td>\n",
       "      <td>3.148</td>\n",
       "      <td>9.336</td>\n",
       "      <td>...</td>\n",
       "      <td>1</td>\n",
       "      <td>44.251</td>\n",
       "      <td>2.053</td>\n",
       "      <td>-2.028</td>\n",
       "      <td>-999.000</td>\n",
       "      <td>-999.00</td>\n",
       "      <td>-999.000</td>\n",
       "      <td>44.251</td>\n",
       "      <td>2.347389</td>\n",
       "      <td>b</td>\n",
       "    </tr>\n",
       "    <tr>\n",
       "      <th>3</th>\n",
       "      <td>100003</td>\n",
       "      <td>143.905</td>\n",
       "      <td>81.417</td>\n",
       "      <td>80.943</td>\n",
       "      <td>0.414</td>\n",
       "      <td>-999.00</td>\n",
       "      <td>-999.000</td>\n",
       "      <td>-999.000</td>\n",
       "      <td>3.310</td>\n",
       "      <td>0.414</td>\n",
       "      <td>...</td>\n",
       "      <td>0</td>\n",
       "      <td>-999.000</td>\n",
       "      <td>-999.000</td>\n",
       "      <td>-999.000</td>\n",
       "      <td>-999.000</td>\n",
       "      <td>-999.00</td>\n",
       "      <td>-999.000</td>\n",
       "      <td>-0.000</td>\n",
       "      <td>5.446378</td>\n",
       "      <td>b</td>\n",
       "    </tr>\n",
       "    <tr>\n",
       "      <th>4</th>\n",
       "      <td>100004</td>\n",
       "      <td>175.864</td>\n",
       "      <td>16.915</td>\n",
       "      <td>134.805</td>\n",
       "      <td>16.405</td>\n",
       "      <td>-999.00</td>\n",
       "      <td>-999.000</td>\n",
       "      <td>-999.000</td>\n",
       "      <td>3.891</td>\n",
       "      <td>16.405</td>\n",
       "      <td>...</td>\n",
       "      <td>0</td>\n",
       "      <td>-999.000</td>\n",
       "      <td>-999.000</td>\n",
       "      <td>-999.000</td>\n",
       "      <td>-999.000</td>\n",
       "      <td>-999.00</td>\n",
       "      <td>-999.000</td>\n",
       "      <td>0.000</td>\n",
       "      <td>6.245333</td>\n",
       "      <td>b</td>\n",
       "    </tr>\n",
       "    <tr>\n",
       "      <th>...</th>\n",
       "      <td>...</td>\n",
       "      <td>...</td>\n",
       "      <td>...</td>\n",
       "      <td>...</td>\n",
       "      <td>...</td>\n",
       "      <td>...</td>\n",
       "      <td>...</td>\n",
       "      <td>...</td>\n",
       "      <td>...</td>\n",
       "      <td>...</td>\n",
       "      <td>...</td>\n",
       "      <td>...</td>\n",
       "      <td>...</td>\n",
       "      <td>...</td>\n",
       "      <td>...</td>\n",
       "      <td>...</td>\n",
       "      <td>...</td>\n",
       "      <td>...</td>\n",
       "      <td>...</td>\n",
       "      <td>...</td>\n",
       "      <td>...</td>\n",
       "    </tr>\n",
       "    <tr>\n",
       "      <th>249995</th>\n",
       "      <td>349995</td>\n",
       "      <td>-999.000</td>\n",
       "      <td>71.989</td>\n",
       "      <td>36.548</td>\n",
       "      <td>5.042</td>\n",
       "      <td>-999.00</td>\n",
       "      <td>-999.000</td>\n",
       "      <td>-999.000</td>\n",
       "      <td>1.392</td>\n",
       "      <td>5.042</td>\n",
       "      <td>...</td>\n",
       "      <td>0</td>\n",
       "      <td>-999.000</td>\n",
       "      <td>-999.000</td>\n",
       "      <td>-999.000</td>\n",
       "      <td>-999.000</td>\n",
       "      <td>-999.00</td>\n",
       "      <td>-999.000</td>\n",
       "      <td>0.000</td>\n",
       "      <td>4.505083</td>\n",
       "      <td>b</td>\n",
       "    </tr>\n",
       "    <tr>\n",
       "      <th>249996</th>\n",
       "      <td>349996</td>\n",
       "      <td>-999.000</td>\n",
       "      <td>58.179</td>\n",
       "      <td>68.083</td>\n",
       "      <td>22.439</td>\n",
       "      <td>-999.00</td>\n",
       "      <td>-999.000</td>\n",
       "      <td>-999.000</td>\n",
       "      <td>2.585</td>\n",
       "      <td>22.439</td>\n",
       "      <td>...</td>\n",
       "      <td>0</td>\n",
       "      <td>-999.000</td>\n",
       "      <td>-999.000</td>\n",
       "      <td>-999.000</td>\n",
       "      <td>-999.000</td>\n",
       "      <td>-999.00</td>\n",
       "      <td>-999.000</td>\n",
       "      <td>-0.000</td>\n",
       "      <td>2.497259</td>\n",
       "      <td>b</td>\n",
       "    </tr>\n",
       "    <tr>\n",
       "      <th>249997</th>\n",
       "      <td>349997</td>\n",
       "      <td>105.457</td>\n",
       "      <td>60.526</td>\n",
       "      <td>75.839</td>\n",
       "      <td>39.757</td>\n",
       "      <td>-999.00</td>\n",
       "      <td>-999.000</td>\n",
       "      <td>-999.000</td>\n",
       "      <td>2.390</td>\n",
       "      <td>22.183</td>\n",
       "      <td>...</td>\n",
       "      <td>1</td>\n",
       "      <td>41.992</td>\n",
       "      <td>1.800</td>\n",
       "      <td>-0.166</td>\n",
       "      <td>-999.000</td>\n",
       "      <td>-999.00</td>\n",
       "      <td>-999.000</td>\n",
       "      <td>41.992</td>\n",
       "      <td>0.018636</td>\n",
       "      <td>s</td>\n",
       "    </tr>\n",
       "    <tr>\n",
       "      <th>249998</th>\n",
       "      <td>349998</td>\n",
       "      <td>94.951</td>\n",
       "      <td>19.362</td>\n",
       "      <td>68.812</td>\n",
       "      <td>13.504</td>\n",
       "      <td>-999.00</td>\n",
       "      <td>-999.000</td>\n",
       "      <td>-999.000</td>\n",
       "      <td>3.365</td>\n",
       "      <td>13.504</td>\n",
       "      <td>...</td>\n",
       "      <td>0</td>\n",
       "      <td>-999.000</td>\n",
       "      <td>-999.000</td>\n",
       "      <td>-999.000</td>\n",
       "      <td>-999.000</td>\n",
       "      <td>-999.00</td>\n",
       "      <td>-999.000</td>\n",
       "      <td>0.000</td>\n",
       "      <td>1.681611</td>\n",
       "      <td>b</td>\n",
       "    </tr>\n",
       "    <tr>\n",
       "      <th>249999</th>\n",
       "      <td>349999</td>\n",
       "      <td>-999.000</td>\n",
       "      <td>72.756</td>\n",
       "      <td>70.831</td>\n",
       "      <td>7.479</td>\n",
       "      <td>-999.00</td>\n",
       "      <td>-999.000</td>\n",
       "      <td>-999.000</td>\n",
       "      <td>2.025</td>\n",
       "      <td>7.479</td>\n",
       "      <td>...</td>\n",
       "      <td>0</td>\n",
       "      <td>-999.000</td>\n",
       "      <td>-999.000</td>\n",
       "      <td>-999.000</td>\n",
       "      <td>-999.000</td>\n",
       "      <td>-999.00</td>\n",
       "      <td>-999.000</td>\n",
       "      <td>0.000</td>\n",
       "      <td>1.877474</td>\n",
       "      <td>b</td>\n",
       "    </tr>\n",
       "  </tbody>\n",
       "</table>\n",
       "<p>250000 rows × 33 columns</p>\n",
       "</div>"
      ],
      "text/plain": [
       "        EventId  DER_mass_MMC  DER_mass_transverse_met_lep  DER_mass_vis  \\\n",
       "0        100000       138.470                       51.655        97.827   \n",
       "1        100001       160.937                       68.768       103.235   \n",
       "2        100002      -999.000                      162.172       125.953   \n",
       "3        100003       143.905                       81.417        80.943   \n",
       "4        100004       175.864                       16.915       134.805   \n",
       "...         ...           ...                          ...           ...   \n",
       "249995   349995      -999.000                       71.989        36.548   \n",
       "249996   349996      -999.000                       58.179        68.083   \n",
       "249997   349997       105.457                       60.526        75.839   \n",
       "249998   349998        94.951                       19.362        68.812   \n",
       "249999   349999      -999.000                       72.756        70.831   \n",
       "\n",
       "        DER_pt_h  DER_deltaeta_jet_jet  DER_mass_jet_jet  DER_prodeta_jet_jet  \\\n",
       "0         27.980                  0.91           124.711                2.666   \n",
       "1         48.146               -999.00          -999.000             -999.000   \n",
       "2         35.635               -999.00          -999.000             -999.000   \n",
       "3          0.414               -999.00          -999.000             -999.000   \n",
       "4         16.405               -999.00          -999.000             -999.000   \n",
       "...          ...                   ...               ...                  ...   \n",
       "249995     5.042               -999.00          -999.000             -999.000   \n",
       "249996    22.439               -999.00          -999.000             -999.000   \n",
       "249997    39.757               -999.00          -999.000             -999.000   \n",
       "249998    13.504               -999.00          -999.000             -999.000   \n",
       "249999     7.479               -999.00          -999.000             -999.000   \n",
       "\n",
       "        DER_deltar_tau_lep  DER_pt_tot  ...  PRI_jet_num  PRI_jet_leading_pt  \\\n",
       "0                    3.064      41.928  ...            2              67.435   \n",
       "1                    3.473       2.078  ...            1              46.226   \n",
       "2                    3.148       9.336  ...            1              44.251   \n",
       "3                    3.310       0.414  ...            0            -999.000   \n",
       "4                    3.891      16.405  ...            0            -999.000   \n",
       "...                    ...         ...  ...          ...                 ...   \n",
       "249995               1.392       5.042  ...            0            -999.000   \n",
       "249996               2.585      22.439  ...            0            -999.000   \n",
       "249997               2.390      22.183  ...            1              41.992   \n",
       "249998               3.365      13.504  ...            0            -999.000   \n",
       "249999               2.025       7.479  ...            0            -999.000   \n",
       "\n",
       "        PRI_jet_leading_eta  PRI_jet_leading_phi  PRI_jet_subleading_pt  \\\n",
       "0                     2.150                0.444                 46.062   \n",
       "1                     0.725                1.158               -999.000   \n",
       "2                     2.053               -2.028               -999.000   \n",
       "3                  -999.000             -999.000               -999.000   \n",
       "4                  -999.000             -999.000               -999.000   \n",
       "...                     ...                  ...                    ...   \n",
       "249995             -999.000             -999.000               -999.000   \n",
       "249996             -999.000             -999.000               -999.000   \n",
       "249997                1.800               -0.166               -999.000   \n",
       "249998             -999.000             -999.000               -999.000   \n",
       "249999             -999.000             -999.000               -999.000   \n",
       "\n",
       "        PRI_jet_subleading_eta  PRI_jet_subleading_phi  PRI_jet_all_pt  \\\n",
       "0                         1.24                  -2.475         113.497   \n",
       "1                      -999.00                -999.000          46.226   \n",
       "2                      -999.00                -999.000          44.251   \n",
       "3                      -999.00                -999.000          -0.000   \n",
       "4                      -999.00                -999.000           0.000   \n",
       "...                        ...                     ...             ...   \n",
       "249995                 -999.00                -999.000           0.000   \n",
       "249996                 -999.00                -999.000          -0.000   \n",
       "249997                 -999.00                -999.000          41.992   \n",
       "249998                 -999.00                -999.000           0.000   \n",
       "249999                 -999.00                -999.000           0.000   \n",
       "\n",
       "          Weight  Label  \n",
       "0       0.002653      s  \n",
       "1       2.233584      b  \n",
       "2       2.347389      b  \n",
       "3       5.446378      b  \n",
       "4       6.245333      b  \n",
       "...          ...    ...  \n",
       "249995  4.505083      b  \n",
       "249996  2.497259      b  \n",
       "249997  0.018636      s  \n",
       "249998  1.681611      b  \n",
       "249999  1.877474      b  \n",
       "\n",
       "[250000 rows x 33 columns]"
      ]
     },
     "execution_count": 4,
     "metadata": {},
     "output_type": "execute_result"
    }
   ],
   "source": [
    "data"
   ]
  },
  {
   "cell_type": "code",
   "execution_count": 5,
   "id": "cb8048e5",
   "metadata": {},
   "outputs": [],
   "source": [
    "# Cambiar los label donde s-> 0 y b-> 1. La columna se va a llamar tag\n",
    "data['Label'] = data[\"Label\"].replace([\"b\",\"s\"],[0,1] )"
   ]
  },
  {
   "cell_type": "code",
   "execution_count": 6,
   "id": "b4c353f3",
   "metadata": {},
   "outputs": [],
   "source": [
    "# Datos caracteristicas no deseadas y dato objetivo \n",
    "carac_no_deseadas = ['Label', 'EventId']\n",
    "\n",
    "x = data.drop(carac_no_deseadas,axis = 1)\n",
    "y = data['Label']"
   ]
  },
  {
   "cell_type": "code",
   "execution_count": 7,
   "id": "4446abdf",
   "metadata": {},
   "outputs": [
    {
     "data": {
      "text/html": [
       "<div>\n",
       "<style scoped>\n",
       "    .dataframe tbody tr th:only-of-type {\n",
       "        vertical-align: middle;\n",
       "    }\n",
       "\n",
       "    .dataframe tbody tr th {\n",
       "        vertical-align: top;\n",
       "    }\n",
       "\n",
       "    .dataframe thead th {\n",
       "        text-align: right;\n",
       "    }\n",
       "</style>\n",
       "<table border=\"1\" class=\"dataframe\">\n",
       "  <thead>\n",
       "    <tr style=\"text-align: right;\">\n",
       "      <th></th>\n",
       "      <th>DER_mass_MMC</th>\n",
       "      <th>DER_mass_transverse_met_lep</th>\n",
       "      <th>DER_mass_vis</th>\n",
       "      <th>DER_pt_h</th>\n",
       "      <th>DER_deltaeta_jet_jet</th>\n",
       "      <th>DER_mass_jet_jet</th>\n",
       "      <th>DER_prodeta_jet_jet</th>\n",
       "      <th>DER_deltar_tau_lep</th>\n",
       "      <th>DER_pt_tot</th>\n",
       "      <th>DER_sum_pt</th>\n",
       "      <th>...</th>\n",
       "      <th>PRI_met_sumet</th>\n",
       "      <th>PRI_jet_num</th>\n",
       "      <th>PRI_jet_leading_pt</th>\n",
       "      <th>PRI_jet_leading_eta</th>\n",
       "      <th>PRI_jet_leading_phi</th>\n",
       "      <th>PRI_jet_subleading_pt</th>\n",
       "      <th>PRI_jet_subleading_eta</th>\n",
       "      <th>PRI_jet_subleading_phi</th>\n",
       "      <th>PRI_jet_all_pt</th>\n",
       "      <th>Weight</th>\n",
       "    </tr>\n",
       "  </thead>\n",
       "  <tbody>\n",
       "    <tr>\n",
       "      <th>0</th>\n",
       "      <td>138.470</td>\n",
       "      <td>51.655</td>\n",
       "      <td>97.827</td>\n",
       "      <td>27.980</td>\n",
       "      <td>0.91</td>\n",
       "      <td>124.711</td>\n",
       "      <td>2.666</td>\n",
       "      <td>3.064</td>\n",
       "      <td>41.928</td>\n",
       "      <td>197.760</td>\n",
       "      <td>...</td>\n",
       "      <td>258.733</td>\n",
       "      <td>2</td>\n",
       "      <td>67.435</td>\n",
       "      <td>2.150</td>\n",
       "      <td>0.444</td>\n",
       "      <td>46.062</td>\n",
       "      <td>1.24</td>\n",
       "      <td>-2.475</td>\n",
       "      <td>113.497</td>\n",
       "      <td>0.002653</td>\n",
       "    </tr>\n",
       "    <tr>\n",
       "      <th>1</th>\n",
       "      <td>160.937</td>\n",
       "      <td>68.768</td>\n",
       "      <td>103.235</td>\n",
       "      <td>48.146</td>\n",
       "      <td>-999.00</td>\n",
       "      <td>-999.000</td>\n",
       "      <td>-999.000</td>\n",
       "      <td>3.473</td>\n",
       "      <td>2.078</td>\n",
       "      <td>125.157</td>\n",
       "      <td>...</td>\n",
       "      <td>164.546</td>\n",
       "      <td>1</td>\n",
       "      <td>46.226</td>\n",
       "      <td>0.725</td>\n",
       "      <td>1.158</td>\n",
       "      <td>-999.000</td>\n",
       "      <td>-999.00</td>\n",
       "      <td>-999.000</td>\n",
       "      <td>46.226</td>\n",
       "      <td>2.233584</td>\n",
       "    </tr>\n",
       "    <tr>\n",
       "      <th>2</th>\n",
       "      <td>-999.000</td>\n",
       "      <td>162.172</td>\n",
       "      <td>125.953</td>\n",
       "      <td>35.635</td>\n",
       "      <td>-999.00</td>\n",
       "      <td>-999.000</td>\n",
       "      <td>-999.000</td>\n",
       "      <td>3.148</td>\n",
       "      <td>9.336</td>\n",
       "      <td>197.814</td>\n",
       "      <td>...</td>\n",
       "      <td>260.414</td>\n",
       "      <td>1</td>\n",
       "      <td>44.251</td>\n",
       "      <td>2.053</td>\n",
       "      <td>-2.028</td>\n",
       "      <td>-999.000</td>\n",
       "      <td>-999.00</td>\n",
       "      <td>-999.000</td>\n",
       "      <td>44.251</td>\n",
       "      <td>2.347389</td>\n",
       "    </tr>\n",
       "    <tr>\n",
       "      <th>3</th>\n",
       "      <td>143.905</td>\n",
       "      <td>81.417</td>\n",
       "      <td>80.943</td>\n",
       "      <td>0.414</td>\n",
       "      <td>-999.00</td>\n",
       "      <td>-999.000</td>\n",
       "      <td>-999.000</td>\n",
       "      <td>3.310</td>\n",
       "      <td>0.414</td>\n",
       "      <td>75.968</td>\n",
       "      <td>...</td>\n",
       "      <td>86.062</td>\n",
       "      <td>0</td>\n",
       "      <td>-999.000</td>\n",
       "      <td>-999.000</td>\n",
       "      <td>-999.000</td>\n",
       "      <td>-999.000</td>\n",
       "      <td>-999.00</td>\n",
       "      <td>-999.000</td>\n",
       "      <td>-0.000</td>\n",
       "      <td>5.446378</td>\n",
       "    </tr>\n",
       "    <tr>\n",
       "      <th>4</th>\n",
       "      <td>175.864</td>\n",
       "      <td>16.915</td>\n",
       "      <td>134.805</td>\n",
       "      <td>16.405</td>\n",
       "      <td>-999.00</td>\n",
       "      <td>-999.000</td>\n",
       "      <td>-999.000</td>\n",
       "      <td>3.891</td>\n",
       "      <td>16.405</td>\n",
       "      <td>57.983</td>\n",
       "      <td>...</td>\n",
       "      <td>53.131</td>\n",
       "      <td>0</td>\n",
       "      <td>-999.000</td>\n",
       "      <td>-999.000</td>\n",
       "      <td>-999.000</td>\n",
       "      <td>-999.000</td>\n",
       "      <td>-999.00</td>\n",
       "      <td>-999.000</td>\n",
       "      <td>0.000</td>\n",
       "      <td>6.245333</td>\n",
       "    </tr>\n",
       "    <tr>\n",
       "      <th>...</th>\n",
       "      <td>...</td>\n",
       "      <td>...</td>\n",
       "      <td>...</td>\n",
       "      <td>...</td>\n",
       "      <td>...</td>\n",
       "      <td>...</td>\n",
       "      <td>...</td>\n",
       "      <td>...</td>\n",
       "      <td>...</td>\n",
       "      <td>...</td>\n",
       "      <td>...</td>\n",
       "      <td>...</td>\n",
       "      <td>...</td>\n",
       "      <td>...</td>\n",
       "      <td>...</td>\n",
       "      <td>...</td>\n",
       "      <td>...</td>\n",
       "      <td>...</td>\n",
       "      <td>...</td>\n",
       "      <td>...</td>\n",
       "      <td>...</td>\n",
       "    </tr>\n",
       "    <tr>\n",
       "      <th>249995</th>\n",
       "      <td>-999.000</td>\n",
       "      <td>71.989</td>\n",
       "      <td>36.548</td>\n",
       "      <td>5.042</td>\n",
       "      <td>-999.00</td>\n",
       "      <td>-999.000</td>\n",
       "      <td>-999.000</td>\n",
       "      <td>1.392</td>\n",
       "      <td>5.042</td>\n",
       "      <td>55.892</td>\n",
       "      <td>...</td>\n",
       "      <td>144.665</td>\n",
       "      <td>0</td>\n",
       "      <td>-999.000</td>\n",
       "      <td>-999.000</td>\n",
       "      <td>-999.000</td>\n",
       "      <td>-999.000</td>\n",
       "      <td>-999.00</td>\n",
       "      <td>-999.000</td>\n",
       "      <td>0.000</td>\n",
       "      <td>4.505083</td>\n",
       "    </tr>\n",
       "    <tr>\n",
       "      <th>249996</th>\n",
       "      <td>-999.000</td>\n",
       "      <td>58.179</td>\n",
       "      <td>68.083</td>\n",
       "      <td>22.439</td>\n",
       "      <td>-999.00</td>\n",
       "      <td>-999.000</td>\n",
       "      <td>-999.000</td>\n",
       "      <td>2.585</td>\n",
       "      <td>22.439</td>\n",
       "      <td>50.618</td>\n",
       "      <td>...</td>\n",
       "      <td>80.408</td>\n",
       "      <td>0</td>\n",
       "      <td>-999.000</td>\n",
       "      <td>-999.000</td>\n",
       "      <td>-999.000</td>\n",
       "      <td>-999.000</td>\n",
       "      <td>-999.00</td>\n",
       "      <td>-999.000</td>\n",
       "      <td>-0.000</td>\n",
       "      <td>2.497259</td>\n",
       "    </tr>\n",
       "    <tr>\n",
       "      <th>249997</th>\n",
       "      <td>105.457</td>\n",
       "      <td>60.526</td>\n",
       "      <td>75.839</td>\n",
       "      <td>39.757</td>\n",
       "      <td>-999.00</td>\n",
       "      <td>-999.000</td>\n",
       "      <td>-999.000</td>\n",
       "      <td>2.390</td>\n",
       "      <td>22.183</td>\n",
       "      <td>120.462</td>\n",
       "      <td>...</td>\n",
       "      <td>198.907</td>\n",
       "      <td>1</td>\n",
       "      <td>41.992</td>\n",
       "      <td>1.800</td>\n",
       "      <td>-0.166</td>\n",
       "      <td>-999.000</td>\n",
       "      <td>-999.00</td>\n",
       "      <td>-999.000</td>\n",
       "      <td>41.992</td>\n",
       "      <td>0.018636</td>\n",
       "    </tr>\n",
       "    <tr>\n",
       "      <th>249998</th>\n",
       "      <td>94.951</td>\n",
       "      <td>19.362</td>\n",
       "      <td>68.812</td>\n",
       "      <td>13.504</td>\n",
       "      <td>-999.00</td>\n",
       "      <td>-999.000</td>\n",
       "      <td>-999.000</td>\n",
       "      <td>3.365</td>\n",
       "      <td>13.504</td>\n",
       "      <td>55.859</td>\n",
       "      <td>...</td>\n",
       "      <td>112.718</td>\n",
       "      <td>0</td>\n",
       "      <td>-999.000</td>\n",
       "      <td>-999.000</td>\n",
       "      <td>-999.000</td>\n",
       "      <td>-999.000</td>\n",
       "      <td>-999.00</td>\n",
       "      <td>-999.000</td>\n",
       "      <td>0.000</td>\n",
       "      <td>1.681611</td>\n",
       "    </tr>\n",
       "    <tr>\n",
       "      <th>249999</th>\n",
       "      <td>-999.000</td>\n",
       "      <td>72.756</td>\n",
       "      <td>70.831</td>\n",
       "      <td>7.479</td>\n",
       "      <td>-999.00</td>\n",
       "      <td>-999.000</td>\n",
       "      <td>-999.000</td>\n",
       "      <td>2.025</td>\n",
       "      <td>7.479</td>\n",
       "      <td>83.240</td>\n",
       "      <td>...</td>\n",
       "      <td>99.405</td>\n",
       "      <td>0</td>\n",
       "      <td>-999.000</td>\n",
       "      <td>-999.000</td>\n",
       "      <td>-999.000</td>\n",
       "      <td>-999.000</td>\n",
       "      <td>-999.00</td>\n",
       "      <td>-999.000</td>\n",
       "      <td>0.000</td>\n",
       "      <td>1.877474</td>\n",
       "    </tr>\n",
       "  </tbody>\n",
       "</table>\n",
       "<p>250000 rows × 31 columns</p>\n",
       "</div>"
      ],
      "text/plain": [
       "        DER_mass_MMC  DER_mass_transverse_met_lep  DER_mass_vis  DER_pt_h  \\\n",
       "0            138.470                       51.655        97.827    27.980   \n",
       "1            160.937                       68.768       103.235    48.146   \n",
       "2           -999.000                      162.172       125.953    35.635   \n",
       "3            143.905                       81.417        80.943     0.414   \n",
       "4            175.864                       16.915       134.805    16.405   \n",
       "...              ...                          ...           ...       ...   \n",
       "249995      -999.000                       71.989        36.548     5.042   \n",
       "249996      -999.000                       58.179        68.083    22.439   \n",
       "249997       105.457                       60.526        75.839    39.757   \n",
       "249998        94.951                       19.362        68.812    13.504   \n",
       "249999      -999.000                       72.756        70.831     7.479   \n",
       "\n",
       "        DER_deltaeta_jet_jet  DER_mass_jet_jet  DER_prodeta_jet_jet  \\\n",
       "0                       0.91           124.711                2.666   \n",
       "1                    -999.00          -999.000             -999.000   \n",
       "2                    -999.00          -999.000             -999.000   \n",
       "3                    -999.00          -999.000             -999.000   \n",
       "4                    -999.00          -999.000             -999.000   \n",
       "...                      ...               ...                  ...   \n",
       "249995               -999.00          -999.000             -999.000   \n",
       "249996               -999.00          -999.000             -999.000   \n",
       "249997               -999.00          -999.000             -999.000   \n",
       "249998               -999.00          -999.000             -999.000   \n",
       "249999               -999.00          -999.000             -999.000   \n",
       "\n",
       "        DER_deltar_tau_lep  DER_pt_tot  DER_sum_pt  ...  PRI_met_sumet  \\\n",
       "0                    3.064      41.928     197.760  ...        258.733   \n",
       "1                    3.473       2.078     125.157  ...        164.546   \n",
       "2                    3.148       9.336     197.814  ...        260.414   \n",
       "3                    3.310       0.414      75.968  ...         86.062   \n",
       "4                    3.891      16.405      57.983  ...         53.131   \n",
       "...                    ...         ...         ...  ...            ...   \n",
       "249995               1.392       5.042      55.892  ...        144.665   \n",
       "249996               2.585      22.439      50.618  ...         80.408   \n",
       "249997               2.390      22.183     120.462  ...        198.907   \n",
       "249998               3.365      13.504      55.859  ...        112.718   \n",
       "249999               2.025       7.479      83.240  ...         99.405   \n",
       "\n",
       "        PRI_jet_num  PRI_jet_leading_pt  PRI_jet_leading_eta  \\\n",
       "0                 2              67.435                2.150   \n",
       "1                 1              46.226                0.725   \n",
       "2                 1              44.251                2.053   \n",
       "3                 0            -999.000             -999.000   \n",
       "4                 0            -999.000             -999.000   \n",
       "...             ...                 ...                  ...   \n",
       "249995            0            -999.000             -999.000   \n",
       "249996            0            -999.000             -999.000   \n",
       "249997            1              41.992                1.800   \n",
       "249998            0            -999.000             -999.000   \n",
       "249999            0            -999.000             -999.000   \n",
       "\n",
       "        PRI_jet_leading_phi  PRI_jet_subleading_pt  PRI_jet_subleading_eta  \\\n",
       "0                     0.444                 46.062                    1.24   \n",
       "1                     1.158               -999.000                 -999.00   \n",
       "2                    -2.028               -999.000                 -999.00   \n",
       "3                  -999.000               -999.000                 -999.00   \n",
       "4                  -999.000               -999.000                 -999.00   \n",
       "...                     ...                    ...                     ...   \n",
       "249995             -999.000               -999.000                 -999.00   \n",
       "249996             -999.000               -999.000                 -999.00   \n",
       "249997               -0.166               -999.000                 -999.00   \n",
       "249998             -999.000               -999.000                 -999.00   \n",
       "249999             -999.000               -999.000                 -999.00   \n",
       "\n",
       "        PRI_jet_subleading_phi  PRI_jet_all_pt    Weight  \n",
       "0                       -2.475         113.497  0.002653  \n",
       "1                     -999.000          46.226  2.233584  \n",
       "2                     -999.000          44.251  2.347389  \n",
       "3                     -999.000          -0.000  5.446378  \n",
       "4                     -999.000           0.000  6.245333  \n",
       "...                        ...             ...       ...  \n",
       "249995                -999.000           0.000  4.505083  \n",
       "249996                -999.000          -0.000  2.497259  \n",
       "249997                -999.000          41.992  0.018636  \n",
       "249998                -999.000           0.000  1.681611  \n",
       "249999                -999.000           0.000  1.877474  \n",
       "\n",
       "[250000 rows x 31 columns]"
      ]
     },
     "execution_count": 7,
     "metadata": {},
     "output_type": "execute_result"
    }
   ],
   "source": [
    "x"
   ]
  },
  {
   "cell_type": "markdown",
   "id": "e026f706",
   "metadata": {},
   "source": [
    "## Preprocesamiento de datos"
   ]
  },
  {
   "cell_type": "code",
   "execution_count": 8,
   "id": "f455053b",
   "metadata": {},
   "outputs": [],
   "source": [
    "import numpy as np\n",
    "from sklearn.impute import SimpleImputer\n",
    "from sklearn.preprocessing import StandardScaler, PowerTransformer\n",
    "\n",
    "def preprocess(X_train, X_test):\n",
    "    # Rellena la información con el valor más frecuente\n",
    "    imputer = SimpleImputer(missing_values=-999.0, strategy='most_frequent')\n",
    "    X_train = imputer.fit_transform(X_train)\n",
    "    X_test = imputer.transform(X_test)\n",
    "\n",
    "    # Standart Scaler\n",
    "    scaler = StandardScaler()\n",
    "    X_train = scaler.fit_transform(X_train)\n",
    "    X_test = scaler.transform(X_test)\n",
    "\n",
    "    return X_train, X_test\n"
   ]
  },
  {
   "cell_type": "markdown",
   "id": "8f2bf979",
   "metadata": {},
   "source": [
    "## Datos entrenamiento y testeo "
   ]
  },
  {
   "cell_type": "code",
   "execution_count": 9,
   "id": "8005b90a",
   "metadata": {
    "scrolled": true
   },
   "outputs": [
    {
     "name": "stdout",
     "output_type": "stream",
     "text": [
      "(25000, 31) (225000, 31) (25000,) (225000,)\n"
     ]
    }
   ],
   "source": [
    "from sklearn.model_selection import train_test_split\n",
    "\n",
    "# Separar datos en entrenamiento y prueba\n",
    "\n",
    "X_train, X_test, Y_train, Y_test = train_test_split(x, y ,test_size = 0.9, random_state = 33)\n",
    "print(X_train.shape, X_test.shape, Y_train.shape, Y_test.shape)"
   ]
  },
  {
   "cell_type": "code",
   "execution_count": 10,
   "id": "113240b9",
   "metadata": {},
   "outputs": [],
   "source": [
    "# Separar la columna Weight de los datos de entrenamiento y testeo \n",
    "X_train_weight = X_train['Weight']\n",
    "X_train = X_train.drop('Weight', axis = 1)\n",
    "\n",
    "X_test_weight = X_test['Weight']\n",
    "X_test = X_test.drop('Weight', axis = 1)"
   ]
  },
  {
   "cell_type": "code",
   "execution_count": 11,
   "id": "13e11c0d",
   "metadata": {},
   "outputs": [],
   "source": [
    "# Aplicar preprocesamiento \n",
    "X_train, X_test = preprocess(X_train, X_test)"
   ]
  },
  {
   "cell_type": "markdown",
   "id": "18c385cb",
   "metadata": {},
   "source": [
    "# Modelos "
   ]
  },
  {
   "cell_type": "markdown",
   "id": "c678c7c6",
   "metadata": {},
   "source": [
    "## Primer Modelos: Arbol de Desiciones (dar una idea)"
   ]
  },
  {
   "cell_type": "code",
   "execution_count": 12,
   "id": "3d673a98",
   "metadata": {},
   "outputs": [
    {
     "name": "stdout",
     "output_type": "stream",
     "text": [
      "Mejores hiperparámetros encontrados:\n",
      "{'min_samples_leaf': 4}\n",
      "Mejor puntuación de validación cruzada:\n",
      "0.7689999999999999\n"
     ]
    }
   ],
   "source": [
    "# Busqueda de mejores parametros\n",
    "from sklearn.tree import DecisionTreeClassifier\n",
    "from sklearn.model_selection import GridSearchCV\n",
    "from sklearn.model_selection import KFold\n",
    "\n",
    "# Definir el clasificador y los valores de los hiperparámetros a probar\n",
    "clf = DecisionTreeClassifier(random_state=42, min_samples_split= 2, criterion = 'entropy')\n",
    "param_grid = {'min_samples_leaf': [4,6,8]}\n",
    "\n",
    "# Realizar la búsqueda de hiperparámetros utilizando GridSearchCV\n",
    "grid_search = GridSearchCV(clf, param_grid=param_grid, cv=KFold(n_splits=10, shuffle=True), \n",
    "                           return_train_score=True, n_jobs=-1)\n",
    "grid_search.fit(X_train, Y_train, sample_weight = X_train_weight)\n",
    "\n",
    "# Imprimir los resultados\n",
    "print(\"Mejores hiperparámetros encontrados:\")\n",
    "print(grid_search.best_params_)\n",
    "print(\"Mejor puntuación de validación cruzada:\")\n",
    "print(grid_search.best_score_)"
   ]
  },
  {
   "cell_type": "code",
   "execution_count": 13,
   "id": "70c6d57f",
   "metadata": {},
   "outputs": [],
   "source": [
    "# Modelo decision tree con parametros optimizados\n",
    "best_clf = grid_search.best_estimator_"
   ]
  },
  {
   "cell_type": "code",
   "execution_count": 14,
   "id": "d29d69b5",
   "metadata": {},
   "outputs": [],
   "source": [
    "# Predecimos Y\n",
    "y_train_pred = best_clf.predict(X_train)\n",
    "y_test_pred = best_clf.predict(X_test)"
   ]
  },
  {
   "cell_type": "code",
   "execution_count": 15,
   "id": "1356d89d",
   "metadata": {},
   "outputs": [
    {
     "data": {
      "text/plain": [
       "<sklearn.metrics._plot.confusion_matrix.ConfusionMatrixDisplay at 0x10c4077f0>"
      ]
     },
     "execution_count": 15,
     "metadata": {},
     "output_type": "execute_result"
    },
    {
     "data": {
      "image/png": "[encoded data removed]",
      "text/plain": [
       "<Figure size 432x288 with 2 Axes>"
      ]
     },
     "metadata": {
      "needs_background": "light"
     },
     "output_type": "display_data"
    }
   ],
   "source": [
    "# Graficamos matriz de confusion\n",
    "from sklearn.metrics import confusion_matrix\n",
    "from sklearn.metrics import ConfusionMatrixDisplay\n",
    "cm = confusion_matrix(Y_test,y_test_pred,labels=best_clf.classes_)\n",
    "ConfusionMatrixDisplay(cm, display_labels=best_clf.classes_).plot()"
   ]
  },
  {
   "cell_type": "code",
   "execution_count": 16,
   "id": "8b732d5c",
   "metadata": {},
   "outputs": [],
   "source": [
    "# Calculo de las predicciones en Train y test\n",
    "y_train_pred = best_clf.predict(X_train)\n",
    "y_test_pred = best_clf.predict(X_test)"
   ]
  },
  {
   "cell_type": "code",
   "execution_count": 17,
   "id": "d6e962d5",
   "metadata": {},
   "outputs": [
    {
     "name": "stdout",
     "output_type": "stream",
     "text": [
      "El accuracy en train es: 0.89644\n",
      "El accuracy en test es: 0.7698355555555556\n"
     ]
    }
   ],
   "source": [
    "from sklearn.metrics import accuracy_score, classification_report\n",
    "print('El accuracy en train es:',accuracy_score(Y_train,y_train_pred))\n",
    "print('El accuracy en test es:', accuracy_score(Y_test,y_test_pred))"
   ]
  },
  {
   "cell_type": "code",
   "execution_count": 18,
   "id": "611680a3",
   "metadata": {},
   "outputs": [
    {
     "name": "stdout",
     "output_type": "stream",
     "text": [
      "1.00 accuracy with a standard deviation of 0.00\n"
     ]
    }
   ],
   "source": [
    "# Prueba de crossvalidation \n",
    "from sklearn.model_selection import cross_val_score\n",
    "scores = cross_val_score(best_clf, x, y, cv=KFold(n_splits=10, shuffle=True))\n",
    "print(\"%0.2f accuracy with a standard deviation of %0.2f\" % (scores.mean(), scores.std()))"
   ]
  },
  {
   "cell_type": "code",
   "execution_count": 19,
   "id": "5b241525",
   "metadata": {},
   "outputs": [
    {
     "name": "stdout",
     "output_type": "stream",
     "text": [
      "              precision    recall  f1-score   support\n",
      "\n",
      "           0       0.78      0.90      0.84    147941\n",
      "           1       0.73      0.52      0.61     77059\n",
      "\n",
      "    accuracy                           0.77    225000\n",
      "   macro avg       0.76      0.71      0.72    225000\n",
      "weighted avg       0.76      0.77      0.76    225000\n",
      "\n"
     ]
    }
   ],
   "source": [
    "print(classification_report(Y_test,y_test_pred))"
   ]
  },
  {
   "cell_type": "code",
   "execution_count": 20,
   "id": "97b74e67",
   "metadata": {},
   "outputs": [],
   "source": [
    "feature_scores= pd.DataFrame(pd.Series(grid_search.best_estimator_.feature_importances_, index=pd.DataFrame(X_train).columns).sort_values(ascending=False)).T"
   ]
  },
  {
   "cell_type": "code",
   "execution_count": 21,
   "id": "6f61b5cb",
   "metadata": {},
   "outputs": [
    {
     "data": {
      "image/png": "[encoded data removed]",
      "text/plain": [
       "<Figure size 864x288 with 1 Axes>"
      ]
     },
     "metadata": {
      "needs_background": "light"
     },
     "output_type": "display_data"
    }
   ],
   "source": [
    "plt.figure(figsize=(12,4))\n",
    "sns.barplot(data=feature_scores)\n",
    "\n",
    "for index, value in enumerate(feature_scores.values.flatten()):\n",
    "    plt.annotate(f'{value:.2f}', xy=(index, value), ha='center', va='bottom')\n",
    "\n",
    "\n",
    "plt.title(\"Factores clave\")\n",
    "plt.show()"
   ]
  },
  {
   "cell_type": "markdown",
   "id": "5a8fefbb",
   "metadata": {},
   "source": [
    "### Curva ROC"
   ]
  },
  {
   "cell_type": "code",
   "execution_count": 22,
   "id": "d4f500bb",
   "metadata": {},
   "outputs": [],
   "source": [
    "#Curva ROC y AUC\n",
    "\n",
    "from sklearn.metrics import roc_curve\n",
    "from sklearn.metrics import roc_auc_score"
   ]
  },
  {
   "cell_type": "code",
   "execution_count": 23,
   "id": "801083e0",
   "metadata": {},
   "outputs": [
    {
     "name": "stdout",
     "output_type": "stream",
     "text": [
      "Sin entrenar: ROC AUC=0.500\n",
      "Arbol de Desiciones: ROC AUC=0.774\n"
     ]
    }
   ],
   "source": [
    "ns_probs = [0 for _ in range(len(Y_test))]\n",
    "\n",
    "# Predecimos las probabilidades entrenando con lr\n",
    "best_clf_probs = best_clf.predict_proba(X_test)\n",
    "\n",
    "#Nos quedamos con las probabilidades de la clase positiva (la probabilidad de 1)\n",
    "best_clf_probs = best_clf_probs[:, 1]\n",
    "\n",
    "# Calculamos el AUC\n",
    "ns_auc = roc_auc_score(Y_test, ns_probs)\n",
    "best_clf_auc = roc_auc_score(Y_test, best_clf_probs)\n",
    "print('Sin entrenar: ROC AUC=%.3f' % (ns_auc))\n",
    "print('Arbol de Desiciones: ROC AUC=%.3f' % (best_clf_auc))\n",
    "\n",
    "# Calculamos las curvas ROC\n",
    "ns_fpr, ns_tpr, _ = roc_curve(Y_test, ns_probs)\n",
    "best_clf_fpr, best_clf_tpr, _ = roc_curve(Y_test, best_clf_probs)"
   ]
  },
  {
   "cell_type": "code",
   "execution_count": 24,
   "id": "630d0d68",
   "metadata": {},
   "outputs": [
    {
     "name": "stdout",
     "output_type": "stream",
     "text": [
      "Arbol de Desiciones: auc=0.717 f1=0.607 \n"
     ]
    },
    {
     "data": {
      "text/plain": [
       "<Figure size 1440x1080 with 0 Axes>"
      ]
     },
     "execution_count": 24,
     "metadata": {},
     "output_type": "execute_result"
    },
    {
     "data": {
      "text/plain": [
       "<Figure size 1440x1080 with 0 Axes>"
      ]
     },
     "metadata": {},
     "output_type": "display_data"
    }
   ],
   "source": [
    "# PR y F1\n",
    "from sklearn.metrics import precision_recall_curve\n",
    "from sklearn.metrics import f1_score\n",
    "from sklearn.metrics import auc\n",
    "\n",
    "best_clf_precision, best_clf_recall, _ = precision_recall_curve(Y_test, best_clf_probs)\n",
    "best_clf_f1, best_clf_auc = f1_score(Y_test, y_test_pred), auc(best_clf_recall, best_clf_precision)\n",
    "print('Arbol de Desiciones: auc=%.3f f1=%.3f ' % (best_clf_auc, best_clf_f1))\n",
    "no_train = len(Y_test[Y_test==1]) / len(Y_test)\n",
    "plt.figure(figsize=(20,15))"
   ]
  },
  {
   "cell_type": "code",
   "execution_count": 25,
   "id": "8cf5c7c7",
   "metadata": {},
   "outputs": [
    {
     "data": {
      "text/plain": [
       "<matplotlib.legend.Legend at 0x16d485490>"
      ]
     },
     "execution_count": 25,
     "metadata": {},
     "output_type": "execute_result"
    },
    {
     "data": {
      "image/png": "[encoded data removed]",
      "text/plain": [
       "<Figure size 432x288 with 1 Axes>"
      ]
     },
     "metadata": {
      "needs_background": "light"
     },
     "output_type": "display_data"
    }
   ],
   "source": [
    "plt.subplot(2,2,1)\n",
    "plt.plot(ns_fpr, ns_tpr, linestyle='--', label='Sin entrenar')\n",
    "plt.plot(best_clf_fpr, best_clf_tpr, marker='.', label='Arbol de Desiciones')\n",
    "plt.xlabel('Falsos Positivos')\n",
    "plt.ylabel('Verdaderos Positivos')\n",
    "plt.legend()"
   ]
  },
  {
   "cell_type": "code",
   "execution_count": 26,
   "id": "18d55254",
   "metadata": {},
   "outputs": [
    {
     "data": {
      "image/png": "[encoded data removed]",
      "text/plain": [
       "<Figure size 432x288 with 1 Axes>"
      ]
     },
     "metadata": {
      "needs_background": "light"
     },
     "output_type": "display_data"
    }
   ],
   "source": [
    "plt.subplot(2,2,2)\n",
    "plt.plot([0, 1], [no_train, no_train], linestyle='--', label='Sin entrenar')\n",
    "plt.plot(best_clf_recall, best_clf_precision, marker='.', label='Arbol de Desiciones')\n",
    "#Etiquetas de ejes\n",
    "plt.xlabel('Sensibilidad')\n",
    "plt.ylabel('Precisión')\n",
    "plt.legend()\n",
    "plt.show()\n"
   ]
  },
  {
   "cell_type": "markdown",
   "id": "c55e0460",
   "metadata": {},
   "source": [
    "# AMS del modelo "
   ]
  },
  {
   "cell_type": "code",
   "execution_count": 27,
   "id": "771e7dcb",
   "metadata": {},
   "outputs": [
    {
     "data": {
      "text/plain": [
       "1.8821517327252189"
      ]
     },
     "execution_count": 27,
     "metadata": {},
     "output_type": "execute_result"
    }
   ],
   "source": [
    "cal_ams(X_test_weight, Y_test, y_test_pred)"
   ]
  },
  {
   "cell_type": "markdown",
   "id": "02e9d2bb",
   "metadata": {},
   "source": [
    "## Conclusiones de este modelo "
   ]
  },
  {
   "cell_type": "markdown",
   "id": "fc25477d",
   "metadata": {},
   "source": [
    "Algo que podemos observar de este modelo, es que, si tomamos un muestra pequeña para el entrenamiento, este se beneficia mucho para mejorar la metrica de AMS y tiene un decente accuracy y ROC AUC, pero sin embargo sufre un poco de overffiting. Esto nos nos dice que nos combiene usar un modelo ExtraTreesClassifier"
   ]
  },
  {
   "cell_type": "markdown",
   "id": "65adf27d",
   "metadata": {},
   "source": [
    "## Segundo Modelo: ExtraTreesClassifier"
   ]
  },
  {
   "cell_type": "markdown",
   "id": "38c8c403",
   "metadata": {},
   "source": [
    "### Modificacion de Datos entrenamiento y testeo "
   ]
  },
  {
   "cell_type": "code",
   "execution_count": 28,
   "id": "af821e1a",
   "metadata": {
    "scrolled": true
   },
   "outputs": [
    {
     "name": "stdout",
     "output_type": "stream",
     "text": [
      "(125000, 31) (125000, 31) (125000,) (125000,)\n"
     ]
    }
   ],
   "source": [
    "from sklearn.model_selection import train_test_split\n",
    "\n",
    "# Separar datos en entrenamiento y prueba\n",
    "\n",
    "X_train, X_test, Y_train, Y_test = train_test_split(x, y ,test_size = 0.5, random_state = 22)\n",
    "print(X_train.shape, X_test.shape, Y_train.shape, Y_test.shape)"
   ]
  },
  {
   "cell_type": "code",
   "execution_count": 29,
   "id": "37ec8f1c",
   "metadata": {},
   "outputs": [],
   "source": [
    "# Separar la columna Weight de los datos de entrenamiento y testeo \n",
    "X_train_weight = X_train['Weight']\n",
    "X_train = X_train.drop('Weight', axis = 1)\n",
    "\n",
    "X_test_weight = X_test['Weight']\n",
    "X_test = X_test.drop('Weight', axis = 1)"
   ]
  },
  {
   "cell_type": "code",
   "execution_count": 30,
   "id": "973b11ec",
   "metadata": {},
   "outputs": [],
   "source": [
    "# Aplicar preprocesamiento \n",
    "X_train, X_test = preprocess(X_train, X_test)"
   ]
  },
  {
   "cell_type": "markdown",
   "id": "46367db7",
   "metadata": {},
   "source": [
    "### Implementación de modelo "
   ]
  },
  {
   "cell_type": "code",
   "execution_count": 119,
   "id": "581c8158",
   "metadata": {},
   "outputs": [
    {
     "name": "stdout",
     "output_type": "stream",
     "text": [
      "Mejores hiperparámetros encontrados:\n",
      "{'criterion': 'entropy'}\n",
      "Mejor puntuación de validación cruzada:\n",
      "0.831488\n"
     ]
    }
   ],
   "source": [
    "# Busqueda de mejores parametros\n",
    "from sklearn.ensemble import ExtraTreesClassifier\n",
    "from sklearn.model_selection import RandomizedSearchCV\n",
    "\n",
    "# Definir el clasificador y los valores de los hiperparámetros a probar\n",
    "model = ExtraTreesClassifier()\n",
    "\n",
    "# Definir el clasificador y los valores de los hiperparámetros a probar\n",
    "model = ExtraTreesClassifier(random_state=42)\n",
    "param_grid = {'criterion': ['gini', 'entropy']}\n",
    "\n",
    "# Realizar la búsqueda de hiperparámetros utilizando GridSearchCV\n",
    "grid_search = GridSearchCV(model, param_grid=param_grid, cv=KFold(n_splits=10, shuffle=True), \n",
    "                           return_train_score=True, n_jobs=-1)\n",
    "grid_search.fit(X_train, Y_train, sample_weight = X_train_weight)\n",
    "\n",
    "# Imprimir los resultados\n",
    "print(\"Mejores hiperparámetros encontrados:\")\n",
    "print(grid_search.best_params_)\n",
    "print(\"Mejor puntuación de validación cruzada:\")\n",
    "print(grid_search.best_score_)"
   ]
  },
  {
   "cell_type": "code",
   "execution_count": 120,
   "id": "61ceb685",
   "metadata": {},
   "outputs": [],
   "source": [
    "# Modelo decision tree con parametros optimizados\n",
    "best_clf = grid_search.best_estimator_"
   ]
  },
  {
   "cell_type": "code",
   "execution_count": 121,
   "id": "d763bba7",
   "metadata": {},
   "outputs": [],
   "source": [
    "# Predecimos Y\n",
    "y_train_pred = best_clf.predict(X_train)\n",
    "y_test_pred = best_clf.predict(X_test)"
   ]
  },
  {
   "cell_type": "code",
   "execution_count": 122,
   "id": "edad474f",
   "metadata": {},
   "outputs": [
    {
     "data": {
      "text/plain": [
       "<sklearn.metrics._plot.confusion_matrix.ConfusionMatrixDisplay at 0x17fe16520>"
      ]
     },
     "execution_count": 122,
     "metadata": {},
     "output_type": "execute_result"
    },
    {
     "data": {
      "image/png": "[encoded data removed]",
      "text/plain": [
       "<Figure size 432x288 with 2 Axes>"
      ]
     },
     "metadata": {
      "needs_background": "light"
     },
     "output_type": "display_data"
    }
   ],
   "source": [
    "# Graficamos matriz de confusion\n",
    "from sklearn.metrics import confusion_matrix\n",
    "from sklearn.metrics import ConfusionMatrixDisplay\n",
    "cm = confusion_matrix(Y_test,y_test_pred,labels=best_clf.classes_)\n",
    "ConfusionMatrixDisplay(cm, display_labels=best_clf.classes_).plot()"
   ]
  },
  {
   "cell_type": "code",
   "execution_count": 123,
   "id": "e7bb4d6d",
   "metadata": {},
   "outputs": [],
   "source": [
    "# Calculo de las predicciones en Train y test\n",
    "y_train_pred = best_clf.predict(X_train)\n",
    "y_test_pred = best_clf.predict(X_test)"
   ]
  },
  {
   "cell_type": "code",
   "execution_count": 124,
   "id": "4342babf",
   "metadata": {},
   "outputs": [
    {
     "name": "stdout",
     "output_type": "stream",
     "text": [
      "El accuracy en train es: 1.0\n",
      "El accuracy en test es: 0.831944\n"
     ]
    }
   ],
   "source": [
    "from sklearn.metrics import accuracy_score, classification_report\n",
    "print('El accuracy en train es:',accuracy_score(Y_train,y_train_pred))\n",
    "print('El accuracy en test es:', accuracy_score(Y_test,y_test_pred))"
   ]
  },
  {
   "cell_type": "code",
   "execution_count": 125,
   "id": "b25e55fb",
   "metadata": {},
   "outputs": [
    {
     "name": "stdout",
     "output_type": "stream",
     "text": [
      "              precision    recall  f1-score   support\n",
      "\n",
      "           0       0.85      0.90      0.88     81984\n",
      "           1       0.79      0.70      0.74     43016\n",
      "\n",
      "    accuracy                           0.83    125000\n",
      "   macro avg       0.82      0.80      0.81    125000\n",
      "weighted avg       0.83      0.83      0.83    125000\n",
      "\n"
     ]
    }
   ],
   "source": [
    "print(classification_report(Y_test,y_test_pred))"
   ]
  },
  {
   "cell_type": "code",
   "execution_count": 126,
   "id": "1b0817c6",
   "metadata": {},
   "outputs": [],
   "source": [
    "feature_scores= pd.DataFrame(pd.Series(grid_search.best_estimator_.feature_importances_, index=pd.DataFrame(X_train).columns).sort_values(ascending=False)).T"
   ]
  },
  {
   "cell_type": "code",
   "execution_count": 127,
   "id": "fae035c7",
   "metadata": {},
   "outputs": [
    {
     "data": {
      "image/png": "[encoded data removed]",
      "text/plain": [
       "<Figure size 864x288 with 1 Axes>"
      ]
     },
     "metadata": {
      "needs_background": "light"
     },
     "output_type": "display_data"
    }
   ],
   "source": [
    "plt.figure(figsize=(12,4))\n",
    "sns.barplot(data=feature_scores)\n",
    "\n",
    "for index, value in enumerate(feature_scores.values.flatten()):\n",
    "    plt.annotate(f'{value:.2f}', xy=(index, value), ha='center', va='bottom')\n",
    "\n",
    "\n",
    "plt.title(\"Factores clave\")\n",
    "plt.show()"
   ]
  },
  {
   "cell_type": "markdown",
   "id": "41f68c37",
   "metadata": {},
   "source": [
    "### Curva ROC"
   ]
  },
  {
   "cell_type": "code",
   "execution_count": 128,
   "id": "7b7b40ad",
   "metadata": {},
   "outputs": [],
   "source": [
    "#Curva ROC y AUC\n",
    "\n",
    "from sklearn.metrics import roc_curve\n",
    "from sklearn.metrics import roc_auc_score"
   ]
  },
  {
   "cell_type": "code",
   "execution_count": 129,
   "id": "20496f2a",
   "metadata": {},
   "outputs": [
    {
     "name": "stdout",
     "output_type": "stream",
     "text": [
      "Sin entrenar: ROC AUC=0.500\n",
      "Arbol de Desiciones: ROC AUC=0.896\n"
     ]
    }
   ],
   "source": [
    "ns_probs = [0 for _ in range(len(Y_test))]\n",
    "\n",
    "# Predecimos las probabilidades entrenando con lr\n",
    "best_clf_probs = best_clf.predict_proba(X_test)\n",
    "\n",
    "#Nos quedamos con las probabilidades de la clase positiva (la probabilidad de 1)\n",
    "best_clf_probs = best_clf_probs[:, 1]\n",
    "\n",
    "# Calculamos el AUC\n",
    "ns_auc = roc_auc_score(Y_test, ns_probs)\n",
    "best_clf_auc = roc_auc_score(Y_test, best_clf_probs)\n",
    "print('Sin entrenar: ROC AUC=%.3f' % (ns_auc))\n",
    "print('Arbol de Desiciones: ROC AUC=%.3f' % (best_clf_auc))\n",
    "\n",
    "# Calculamos las curvas ROC\n",
    "ns_fpr, ns_tpr, _ = roc_curve(Y_test, ns_probs)\n",
    "best_clf_fpr, best_clf_tpr, _ = roc_curve(Y_test, best_clf_probs)"
   ]
  },
  {
   "cell_type": "code",
   "execution_count": 130,
   "id": "37e95f2e",
   "metadata": {},
   "outputs": [
    {
     "name": "stdout",
     "output_type": "stream",
     "text": [
      "Arbol de Desiciones: auc=0.831 f1=0.742 \n"
     ]
    },
    {
     "data": {
      "text/plain": [
       "<Figure size 1440x1080 with 0 Axes>"
      ]
     },
     "execution_count": 130,
     "metadata": {},
     "output_type": "execute_result"
    },
    {
     "data": {
      "text/plain": [
       "<Figure size 1440x1080 with 0 Axes>"
      ]
     },
     "metadata": {},
     "output_type": "display_data"
    }
   ],
   "source": [
    "# PR y F1\n",
    "from sklearn.metrics import precision_recall_curve\n",
    "from sklearn.metrics import f1_score\n",
    "from sklearn.metrics import auc\n",
    "\n",
    "best_clf_precision, best_clf_recall, _ = precision_recall_curve(Y_test, best_clf_probs)\n",
    "best_clf_f1, best_clf_auc = f1_score(Y_test, y_test_pred), auc(best_clf_recall, best_clf_precision)\n",
    "print('Arbol de Desiciones: auc=%.3f f1=%.3f ' % (best_clf_auc, best_clf_f1))\n",
    "no_train = len(Y_test[Y_test==1]) / len(Y_test)\n",
    "plt.figure(figsize=(20,15))"
   ]
  },
  {
   "cell_type": "code",
   "execution_count": 131,
   "id": "b01e99b6",
   "metadata": {},
   "outputs": [
    {
     "data": {
      "text/plain": [
       "<matplotlib.legend.Legend at 0x17ef9fc40>"
      ]
     },
     "execution_count": 131,
     "metadata": {},
     "output_type": "execute_result"
    },
    {
     "data": {
      "image/png": "[encoded data removed]",
      "text/plain": [
       "<Figure size 432x288 with 1 Axes>"
      ]
     },
     "metadata": {
      "needs_background": "light"
     },
     "output_type": "display_data"
    }
   ],
   "source": [
    "plt.subplot(2,2,1)\n",
    "plt.plot(ns_fpr, ns_tpr, linestyle='--', label='Sin entrenar')\n",
    "plt.plot(best_clf_fpr, best_clf_tpr, marker='.', label='Arbol de Desiciones')\n",
    "plt.xlabel('Falsos Positivos')\n",
    "plt.ylabel('Verdaderos Positivos')\n",
    "plt.legend()"
   ]
  },
  {
   "cell_type": "code",
   "execution_count": 132,
   "id": "8992ec5c",
   "metadata": {},
   "outputs": [
    {
     "data": {
      "image/png": "[encoded data removed]",
      "text/plain": [
       "<Figure size 432x288 with 1 Axes>"
      ]
     },
     "metadata": {
      "needs_background": "light"
     },
     "output_type": "display_data"
    }
   ],
   "source": [
    "plt.subplot(2,2,2)\n",
    "plt.plot([0, 1], [no_train, no_train], linestyle='--', label='Sin entrenar')\n",
    "plt.plot(best_clf_recall, best_clf_precision, marker='.', label='Arbol de Desiciones')\n",
    "#Etiquetas de ejes\n",
    "plt.xlabel('Sensibilidad')\n",
    "plt.ylabel('Precisión')\n",
    "plt.legend()\n",
    "plt.show()\n"
   ]
  },
  {
   "cell_type": "markdown",
   "id": "44cb996b",
   "metadata": {},
   "source": [
    "# AMS del modelo "
   ]
  },
  {
   "cell_type": "code",
   "execution_count": 133,
   "id": "a9abc66a",
   "metadata": {
    "scrolled": true
   },
   "outputs": [
    {
     "data": {
      "text/plain": [
       "2.036614194118988"
      ]
     },
     "execution_count": 133,
     "metadata": {},
     "output_type": "execute_result"
    }
   ],
   "source": [
    "cal_ams(X_test_weight, Y_test, y_test_pred)"
   ]
  },
  {
   "cell_type": "markdown",
   "id": "9e314035",
   "metadata": {},
   "source": [
    "## Tercer Modelo: AdaBoostClassifier (usando )"
   ]
  },
  {
   "cell_type": "markdown",
   "id": "5538ed16",
   "metadata": {},
   "source": [
    "### Modificacion de Datos entrenamiento y testeo "
   ]
  },
  {
   "cell_type": "code",
   "execution_count": 134,
   "id": "3f7c8847",
   "metadata": {
    "scrolled": true
   },
   "outputs": [
    {
     "name": "stdout",
     "output_type": "stream",
     "text": [
      "(25000, 31) (225000, 31) (25000,) (225000,)\n"
     ]
    }
   ],
   "source": [
    "from sklearn.model_selection import train_test_split\n",
    "\n",
    "# Separar datos en entrenamiento y prueba\n",
    "\n",
    "X_train, X_test, Y_train, Y_test = train_test_split(x, y ,test_size = 0.9, random_state = 33)\n",
    "print(X_train.shape, X_test.shape, Y_train.shape, Y_test.shape)"
   ]
  },
  {
   "cell_type": "code",
   "execution_count": 135,
   "id": "6e3076c9",
   "metadata": {},
   "outputs": [],
   "source": [
    "# Separar la columna Weight de los datos de entrenamiento y testeo \n",
    "X_train_weight = X_train['Weight']\n",
    "X_train = X_train.drop('Weight', axis = 1)\n",
    "\n",
    "X_test_weight = X_test['Weight']\n",
    "X_test = X_test.drop('Weight', axis = 1)"
   ]
  },
  {
   "cell_type": "code",
   "execution_count": 136,
   "id": "1b7c4f23",
   "metadata": {},
   "outputs": [],
   "source": [
    "# Aplicar preprocesamiento \n",
    "X_train, X_test = preprocess(X_train, X_test)"
   ]
  },
  {
   "cell_type": "markdown",
   "id": "ec080698",
   "metadata": {},
   "source": [
    "### Implementación de modelo "
   ]
  },
  {
   "cell_type": "code",
   "execution_count": 137,
   "id": "e4a317d5",
   "metadata": {},
   "outputs": [],
   "source": [
    "# Busqueda de mejores parametros\n",
    "from sklearn.ensemble import AdaBoostClassifier\n",
    "\n",
    "# Definir el clasificador y los valores de los hiperparámetros a probar\n",
    "base_estimator =  ExtraTreesClassifier()\n",
    "adaboost = AdaBoostClassifier(base_estimator=base_estimator,\n",
    "                              n_estimators = 20,learning_rate = 0.75,)\n",
    "\n",
    "# Modelo\n",
    "best_clf = adaboost.fit(X_train, Y_train, sample_weight = X_train_weight)"
   ]
  },
  {
   "cell_type": "code",
   "execution_count": 138,
   "id": "7f81905e",
   "metadata": {},
   "outputs": [],
   "source": [
    "# Predecimos Y\n",
    "y_train_pred = best_clf.predict(X_train)\n",
    "y_test_pred = best_clf.predict(X_test)"
   ]
  },
  {
   "cell_type": "code",
   "execution_count": 139,
   "id": "5d97ce34",
   "metadata": {},
   "outputs": [
    {
     "data": {
      "text/plain": [
       "<sklearn.metrics._plot.confusion_matrix.ConfusionMatrixDisplay at 0x11ba6fcd0>"
      ]
     },
     "execution_count": 139,
     "metadata": {},
     "output_type": "execute_result"
    },
    {
     "data": {
      "image/png": "[encoded data removed]",
      "text/plain": [
       "<Figure size 432x288 with 2 Axes>"
      ]
     },
     "metadata": {
      "needs_background": "light"
     },
     "output_type": "display_data"
    }
   ],
   "source": [
    "# Graficamos matriz de confusion\n",
    "from sklearn.metrics import confusion_matrix\n",
    "from sklearn.metrics import ConfusionMatrixDisplay\n",
    "cm = confusion_matrix(Y_test,y_test_pred,labels=best_clf.classes_)\n",
    "ConfusionMatrixDisplay(cm, display_labels=best_clf.classes_).plot()"
   ]
  },
  {
   "cell_type": "code",
   "execution_count": 140,
   "id": "b7333eb6",
   "metadata": {},
   "outputs": [],
   "source": [
    "# Calculo de las predicciones en Train y test\n",
    "y_train_pred = best_clf.predict(X_train)\n",
    "y_test_pred = best_clf.predict(X_test)"
   ]
  },
  {
   "cell_type": "code",
   "execution_count": 141,
   "id": "6a208e71",
   "metadata": {},
   "outputs": [
    {
     "name": "stdout",
     "output_type": "stream",
     "text": [
      "El accuracy en train es: 1.0\n",
      "El accuracy en test es: 0.8235688888888889\n"
     ]
    }
   ],
   "source": [
    "from sklearn.metrics import accuracy_score, classification_report\n",
    "print('El accuracy en train es:',accuracy_score(Y_train,y_train_pred))\n",
    "print('El accuracy en test es:', accuracy_score(Y_test,y_test_pred))"
   ]
  },
  {
   "cell_type": "code",
   "execution_count": 142,
   "id": "69630145",
   "metadata": {},
   "outputs": [],
   "source": [
    "# Prueba de crossvalidation \n",
    "#from sklearn.model_selection import cross_val_score\n",
    "#scores = cross_val_score(best_clf, x, y, cv=KFold(n_splits=10, shuffle=True))\n",
    "#print(\"%0.2f accuracy with a standard deviation of %0.2f\" % (scores.mean(), scores.std()))"
   ]
  },
  {
   "cell_type": "code",
   "execution_count": 143,
   "id": "40b40d28",
   "metadata": {},
   "outputs": [
    {
     "name": "stdout",
     "output_type": "stream",
     "text": [
      "              precision    recall  f1-score   support\n",
      "\n",
      "           0       0.85      0.89      0.87    147941\n",
      "           1       0.77      0.70      0.73     77059\n",
      "\n",
      "    accuracy                           0.82    225000\n",
      "   macro avg       0.81      0.79      0.80    225000\n",
      "weighted avg       0.82      0.82      0.82    225000\n",
      "\n"
     ]
    }
   ],
   "source": [
    "print(classification_report(Y_test,y_test_pred))"
   ]
  },
  {
   "cell_type": "code",
   "execution_count": 144,
   "id": "ad9e7ec4",
   "metadata": {},
   "outputs": [],
   "source": [
    "feature_scores= pd.DataFrame(pd.Series(grid_search.best_estimator_.feature_importances_, index=pd.DataFrame(X_train).columns).sort_values(ascending=False)).T"
   ]
  },
  {
   "cell_type": "code",
   "execution_count": 145,
   "id": "5611c9bc",
   "metadata": {},
   "outputs": [
    {
     "data": {
      "image/png": "[encoded data removed]",
      "text/plain": [
       "<Figure size 864x288 with 1 Axes>"
      ]
     },
     "metadata": {
      "needs_background": "light"
     },
     "output_type": "display_data"
    }
   ],
   "source": [
    "plt.figure(figsize=(12,4))\n",
    "sns.barplot(data=feature_scores)\n",
    "\n",
    "for index, value in enumerate(feature_scores.values.flatten()):\n",
    "    plt.annotate(f'{value:.2f}', xy=(index, value), ha='center', va='bottom')\n",
    "\n",
    "\n",
    "plt.title(\"Factores clave\")\n",
    "plt.show()"
   ]
  },
  {
   "cell_type": "code",
   "execution_count": 146,
   "id": "b057b04e",
   "metadata": {},
   "outputs": [],
   "source": [
    "#plt.figure(figsize = (12,8))\n",
    "#from sklearn import tree\n",
    "\n",
    "#tree.plot_tree(best_clf.fit(X_train, Y_train))"
   ]
  },
  {
   "cell_type": "markdown",
   "id": "073bf04b",
   "metadata": {},
   "source": [
    "### Curva ROC"
   ]
  },
  {
   "cell_type": "code",
   "execution_count": 147,
   "id": "122a4f8e",
   "metadata": {},
   "outputs": [],
   "source": [
    "#Curva ROC y AUC\n",
    "\n",
    "from sklearn.metrics import roc_curve\n",
    "from sklearn.metrics import roc_auc_score"
   ]
  },
  {
   "cell_type": "code",
   "execution_count": 148,
   "id": "0d72357b",
   "metadata": {},
   "outputs": [
    {
     "name": "stdout",
     "output_type": "stream",
     "text": [
      "Sin entrenar: ROC AUC=0.500\n",
      "Arbol de Desiciones: ROC AUC=0.886\n"
     ]
    }
   ],
   "source": [
    "ns_probs = [0 for _ in range(len(Y_test))]\n",
    "\n",
    "# Predecimos las probabilidades entrenando con lr\n",
    "best_clf_probs = best_clf.predict_proba(X_test)\n",
    "\n",
    "#Nos quedamos con las probabilidades de la clase positiva (la probabilidad de 1)\n",
    "best_clf_probs = best_clf_probs[:, 1]\n",
    "\n",
    "# Calculamos el AUC\n",
    "ns_auc = roc_auc_score(Y_test, ns_probs)\n",
    "best_clf_auc = roc_auc_score(Y_test, best_clf_probs)\n",
    "print('Sin entrenar: ROC AUC=%.3f' % (ns_auc))\n",
    "print('Arbol de Desiciones: ROC AUC=%.3f' % (best_clf_auc))\n",
    "\n",
    "# Calculamos las curvas ROC\n",
    "ns_fpr, ns_tpr, _ = roc_curve(Y_test, ns_probs)\n",
    "best_clf_fpr, best_clf_tpr, _ = roc_curve(Y_test, best_clf_probs)"
   ]
  },
  {
   "cell_type": "code",
   "execution_count": 149,
   "id": "2e6f6c2c",
   "metadata": {},
   "outputs": [
    {
     "name": "stdout",
     "output_type": "stream",
     "text": [
      "Arbol de Desiciones: auc=0.815 f1=0.731 \n"
     ]
    },
    {
     "data": {
      "text/plain": [
       "<Figure size 1440x1080 with 0 Axes>"
      ]
     },
     "execution_count": 149,
     "metadata": {},
     "output_type": "execute_result"
    },
    {
     "data": {
      "text/plain": [
       "<Figure size 1440x1080 with 0 Axes>"
      ]
     },
     "metadata": {},
     "output_type": "display_data"
    }
   ],
   "source": [
    "# PR y F1\n",
    "from sklearn.metrics import precision_recall_curve\n",
    "from sklearn.metrics import f1_score\n",
    "from sklearn.metrics import auc\n",
    "\n",
    "best_clf_precision, best_clf_recall, _ = precision_recall_curve(Y_test, best_clf_probs)\n",
    "best_clf_f1, best_clf_auc = f1_score(Y_test, y_test_pred), auc(best_clf_recall, best_clf_precision)\n",
    "print('Arbol de Desiciones: auc=%.3f f1=%.3f ' % (best_clf_auc, best_clf_f1))\n",
    "no_train = len(Y_test[Y_test==1]) / len(Y_test)\n",
    "plt.figure(figsize=(20,15))"
   ]
  },
  {
   "cell_type": "code",
   "execution_count": 150,
   "id": "1e25fa67",
   "metadata": {},
   "outputs": [
    {
     "data": {
      "text/plain": [
       "<matplotlib.legend.Legend at 0x11bae6a00>"
      ]
     },
     "execution_count": 150,
     "metadata": {},
     "output_type": "execute_result"
    },
    {
     "data": {
      "image/png": "[encoded data removed]",
      "text/plain": [
       "<Figure size 432x288 with 1 Axes>"
      ]
     },
     "metadata": {
      "needs_background": "light"
     },
     "output_type": "display_data"
    }
   ],
   "source": [
    "plt.subplot(2,2,1)\n",
    "plt.plot(ns_fpr, ns_tpr, linestyle='--', label='Sin entrenar')\n",
    "plt.plot(best_clf_fpr, best_clf_tpr, marker='.', label='Arbol de Desiciones')\n",
    "plt.xlabel('Falsos Positivos')\n",
    "plt.ylabel('Verdaderos Positivos')\n",
    "plt.legend()"
   ]
  },
  {
   "cell_type": "code",
   "execution_count": 151,
   "id": "d4adfb2c",
   "metadata": {},
   "outputs": [
    {
     "data": {
      "image/png": "[encoded data removed]",
      "text/plain": [
       "<Figure size 432x288 with 1 Axes>"
      ]
     },
     "metadata": {
      "needs_background": "light"
     },
     "output_type": "display_data"
    }
   ],
   "source": [
    "plt.subplot(2,2,2)\n",
    "plt.plot([0, 1], [no_train, no_train], linestyle='--', label='Sin entrenar')\n",
    "plt.plot(best_clf_recall, best_clf_precision, marker='.', label='Arbol de Desiciones')\n",
    "#Etiquetas de ejes\n",
    "plt.xlabel('Sensibilidad')\n",
    "plt.ylabel('Precisión')\n",
    "plt.legend()\n",
    "plt.show()\n"
   ]
  },
  {
   "cell_type": "markdown",
   "id": "70e1e438",
   "metadata": {},
   "source": [
    "# AMS del modelo "
   ]
  },
  {
   "cell_type": "code",
   "execution_count": 152,
   "id": "328e93c1",
   "metadata": {},
   "outputs": [
    {
     "data": {
      "text/plain": [
       "2.637523621766222"
      ]
     },
     "execution_count": 152,
     "metadata": {},
     "output_type": "execute_result"
    }
   ],
   "source": [
    "cal_ams(X_test_weight, Y_test, y_test_pred)"
   ]
  }
 ],
 "metadata": {
  "kernelspec": {
   "display_name": "Python 3 (ipykernel)",
   "language": "python",
   "name": "python3"
  },
  "language_info": {
   "codemirror_mode": {
    "name": "ipython",
    "version": 3
   },
   "file_extension": ".py",
   "mimetype": "text/x-python",
   "name": "python",
   "nbconvert_exporter": "python",
   "pygments_lexer": "ipython3",
   "version": "3.9.12"
  }
 },
 "nbformat": 4,
 "nbformat_minor": 5
}
